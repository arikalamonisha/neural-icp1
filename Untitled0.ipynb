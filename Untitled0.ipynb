{
  "nbformat": 4,
  "nbformat_minor": 0,
  "metadata": {
    "colab": {
      "provenance": [],
      "authorship_tag": "ABX9TyOAUPY3V41u8FMzEFeY5+VY",
      "include_colab_link": true
    },
    "kernelspec": {
      "name": "python3",
      "display_name": "Python 3"
    },
    "language_info": {
      "name": "python"
    }
  },
  "cells": [
    {
      "cell_type": "markdown",
      "metadata": {
        "id": "view-in-github",
        "colab_type": "text"
      },
      "source": [
        "<a href=\"https://colab.research.google.com/github/arikalamonisha/neural-icp1/blob/main/Untitled0.ipynb\" target=\"_parent\"><img src=\"https://colab.research.google.com/assets/colab-badge.svg\" alt=\"Open In Colab\"/></a>"
      ]
    },
    {
      "cell_type": "code",
      "source": [
        "def Full_name(first_name=\"first name\",last_name='last name'):# Here i have created Full name method by passing arguments first name and last name\n",
        "    return first_name+' '+last_name # Here i have conacatinted both first name and last name which i have returned it as a string to the function"
      ],
      "metadata": {
        "id": "AibDkMU0futz"
      },
      "execution_count": 1,
      "outputs": []
    },
    {
      "cell_type": "code",
      "execution_count": 2,
      "metadata": {
        "colab": {
          "base_uri": "https://localhost:8080/"
        },
        "id": "JYgkGWf3fp1h",
        "outputId": "2e3bf826-5b37-4bfe-8fa0-a378e77eb9ec"
      },
      "outputs": [
        {
          "output_type": "stream",
          "name": "stdout",
          "text": [
            "Enter your first name:/nmonisha\n",
            "Enter your last name:/narikala\n",
            "monisha arikala\n"
          ]
        }
      ],
      "source": [
        "first_name=input(\"Enter your first name:/n\")# Used input function to accept a string from the user and stored in a variable\n",
        "last_name=input(\"Enter your last name:/n\")\n",
        "full_name=Full_name(first_name,last_name)#passed variables to the function\n",
        "print(full_name)"
      ]
    },
    {
      "cell_type": "code",
      "source": [
        "with open('input_file.txt','r') as ipf:#created a file named input_file and used read and split functions to read the file and split the words into several words as per the question\n",
        "    line=ipf.read()\n",
        "    word=line.split()\n",
        "    with open('output_file.txt','w') as opf:\n",
        "        for i in word: # Here i have iterated through word variable where the split of words are returned\n",
        "            opf.write(i+':'+str(word.count(i))+'\\n')\n",
        "opf=open('output_file.txt','r')\n",
        "print(opf.read())"
      ],
      "metadata": {
        "colab": {
          "base_uri": "https://localhost:8080/"
        },
        "id": "HYqmwcL1f32d",
        "outputId": "1be0094b-865f-4e97-805b-48c438d93552"
      },
      "execution_count": 3,
      "outputs": [
        {
          "output_type": "stream",
          "name": "stdout",
          "text": [
            "Python:1\n",
            "Course:2\n",
            "Deep:1\n",
            "Learning:1\n",
            "Course:2\n",
            "\n"
          ]
        }
      ]
    },
    {
      "cell_type": "code",
      "source": [
        "# Nested interactive loop\n",
        "heights=[]# Empty List\n",
        "\n",
        "while True:\n",
        "    x=float(input())\n",
        "    if(x<=0):\n",
        "        break\n",
        "    heights.append(x)#this is in inches\n",
        "output=[x*2.54 for x in heights]\n",
        "print(output)#this is in cm"
      ],
      "metadata": {
        "colab": {
          "base_uri": "https://localhost:8080/",
          "height": 228
        },
        "id": "z1GhVF3ggBmI",
        "outputId": "587b4522-6db3-40e0-e6f7-fd528b875ea0"
      },
      "execution_count": 4,
      "outputs": [
        {
          "name": "stdout",
          "output_type": "stream",
          "text": [
            "[23,678,76,12]\n"
          ]
        },
        {
          "output_type": "error",
          "ename": "ValueError",
          "evalue": "could not convert string to float: '[23,678,76,12]'",
          "traceback": [
            "\u001b[0;31m---------------------------------------------------------------------------\u001b[0m",
            "\u001b[0;31mValueError\u001b[0m                                Traceback (most recent call last)",
            "\u001b[0;32m<ipython-input-4-eaa8fccf77a9>\u001b[0m in \u001b[0;36m<cell line: 0>\u001b[0;34m()\u001b[0m\n\u001b[1;32m      3\u001b[0m \u001b[0;34m\u001b[0m\u001b[0m\n\u001b[1;32m      4\u001b[0m \u001b[0;32mwhile\u001b[0m \u001b[0;32mTrue\u001b[0m\u001b[0;34m:\u001b[0m\u001b[0;34m\u001b[0m\u001b[0;34m\u001b[0m\u001b[0m\n\u001b[0;32m----> 5\u001b[0;31m     \u001b[0mx\u001b[0m\u001b[0;34m=\u001b[0m\u001b[0mfloat\u001b[0m\u001b[0;34m(\u001b[0m\u001b[0minput\u001b[0m\u001b[0;34m(\u001b[0m\u001b[0;34m)\u001b[0m\u001b[0;34m)\u001b[0m\u001b[0;34m\u001b[0m\u001b[0;34m\u001b[0m\u001b[0m\n\u001b[0m\u001b[1;32m      6\u001b[0m     \u001b[0;32mif\u001b[0m\u001b[0;34m(\u001b[0m\u001b[0mx\u001b[0m\u001b[0;34m<=\u001b[0m\u001b[0;36m0\u001b[0m\u001b[0;34m)\u001b[0m\u001b[0;34m:\u001b[0m\u001b[0;34m\u001b[0m\u001b[0;34m\u001b[0m\u001b[0m\n\u001b[1;32m      7\u001b[0m         \u001b[0;32mbreak\u001b[0m\u001b[0;34m\u001b[0m\u001b[0;34m\u001b[0m\u001b[0m\n",
            "\u001b[0;31mValueError\u001b[0m: could not convert string to float: '[23,678,76,12]'"
          ]
        }
      ]
    }
  ]
}